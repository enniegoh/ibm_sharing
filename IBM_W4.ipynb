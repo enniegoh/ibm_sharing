{
 "cells": [
  {
   "cell_type": "markdown",
   "id": "15e49901",
   "metadata": {},
   "source": [
    "# My Jupyter Notebook on IBM Watson Studio"
   ]
  },
  {
   "cell_type": "markdown",
   "id": "d885e2a5",
   "metadata": {},
   "source": [
    "**Goh Jia En**  \n",
    "I am desired to become a data scientist in the future."
   ]
  },
  {
   "cell_type": "markdown",
   "id": "4cdfd4ae",
   "metadata": {},
   "source": [
    "*I am interested in data science because I wish to apply both the knowledge in Economics and Statistics that I learned during my undergrad to analyse real-world economics problems.*"
   ]
  },
  {
   "cell_type": "markdown",
   "id": "9933e45d",
   "metadata": {},
   "source": [
    "### The following cell will print \"Thank you!\""
   ]
  },
  {
   "cell_type": "code",
   "execution_count": 3,
   "id": "07ffe82d",
   "metadata": {},
   "outputs": [
    {
     "name": "stdout",
     "output_type": "stream",
     "text": [
      "Thank you!\n"
     ]
    }
   ],
   "source": [
    "print(\"Thank you!\")"
   ]
  },
  {
   "cell_type": "markdown",
   "id": "ade1c048",
   "metadata": {},
   "source": [
    "- I actually don't really understand the instruction for this cell.  \n",
    "1. I hope I didn't misunderstanding the instruction.  \n",
    "> Thank you for reviewing my notebook and have a nice day!"
   ]
  }
 ],
 "metadata": {
  "kernelspec": {
   "display_name": "Python 3 (ipykernel)",
   "language": "python",
   "name": "python3"
  },
  "language_info": {
   "codemirror_mode": {
    "name": "ipython",
    "version": 3
   },
   "file_extension": ".py",
   "mimetype": "text/x-python",
   "name": "python",
   "nbconvert_exporter": "python",
   "pygments_lexer": "ipython3",
   "version": "3.10.5"
  }
 },
 "nbformat": 4,
 "nbformat_minor": 5
}
